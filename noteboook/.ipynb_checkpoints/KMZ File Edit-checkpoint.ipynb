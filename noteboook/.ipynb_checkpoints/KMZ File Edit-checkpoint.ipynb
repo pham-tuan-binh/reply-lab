{
 "cells": [
  {
   "cell_type": "markdown",
   "id": "dc39bc80-9596-444b-9975-4c1707b0791e",
   "metadata": {},
   "source": [
    "# Import necessary library"
   ]
  },
  {
   "cell_type": "code",
   "execution_count": 2,
   "id": "f93d2501-acb8-4194-90c5-16ffea5634d2",
   "metadata": {},
   "outputs": [],
   "source": [
    "from fastkml import kml"
   ]
  },
  {
   "cell_type": "code",
   "execution_count": null,
   "id": "e894f6c0-ee5b-4ea7-bd0d-7207a7bb04d3",
   "metadata": {},
   "outputs": [],
   "source": [
    "k = kml.KML.parse(\"../data/RoutePlanning.kmz\")"
   ]
  }
 ],
 "metadata": {
  "kernelspec": {
   "display_name": "Python 3 (ipykernel)",
   "language": "python",
   "name": "python3"
  },
  "language_info": {
   "codemirror_mode": {
    "name": "ipython",
    "version": 3
   },
   "file_extension": ".py",
   "mimetype": "text/x-python",
   "name": "python",
   "nbconvert_exporter": "python",
   "pygments_lexer": "ipython3",
   "version": "3.10.16"
  }
 },
 "nbformat": 4,
 "nbformat_minor": 5
}
