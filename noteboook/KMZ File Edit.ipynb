{
 "cells": [
  {
   "cell_type": "markdown",
   "id": "dc39bc80-9596-444b-9975-4c1707b0791e",
   "metadata": {},
   "source": [
    "# Import necessary library"
   ]
  },
  {
   "cell_type": "code",
   "execution_count": 6,
   "id": "f93d2501-acb8-4194-90c5-16ffea5634d2",
   "metadata": {},
   "outputs": [],
   "source": [
    "from fastkml import kml\n",
    "from zipfile import ZipFile"
   ]
  },
  {
   "cell_type": "code",
   "execution_count": 18,
   "id": "d1eacc10-9b73-45f3-8ecb-ade58eb96d04",
   "metadata": {},
   "outputs": [],
   "source": [
    "kmz_file_name = \"RoutePlanning\"\n",
    "kmz_file_path = f\"../data/{kmz_file_name}.kmz\"\n",
    "kml_file_path = f\"../data/{kmz_file_name}.kml\""
   ]
  },
  {
   "cell_type": "code",
   "execution_count": 19,
   "id": "e894f6c0-ee5b-4ea7-bd0d-7207a7bb04d3",
   "metadata": {},
   "outputs": [
    {
     "data": {
      "text/plain": [
       "fastkml.kml.KML(ns='{http://www.opengis.net/kml/2.2}', name_spaces={'kml': '{http://www.opengis.net/kml/2.2}', 'atom': '{http://www.w3.org/2005/Atom}', 'gx': '{http://www.google.com/kml/ext/2.2}'}, features=[fastkml.containers.Document(ns='{http://www.opengis.net/kml/2.2}', name_spaces={'kml': '{http://www.opengis.net/kml/2.2}', 'atom': '{http://www.w3.org/2005/Atom}', 'gx': '{http://www.google.com/kml/ext/2.2}'}, id='', target_id='', name=None, visibility=None, isopen=None, atom_link=None, atom_author=None, address=None, phone_number=None, snippet=None, description=None, view=None, times=None, style_url=None, styles=[], region=None, extended_data=None, features=[fastkml.containers.Folder(ns='{http://www.opengis.net/kml/2.2}', name_spaces={'kml': '{http://www.opengis.net/kml/2.2}', 'atom': '{http://www.w3.org/2005/Atom}', 'gx': '{http://www.google.com/kml/ext/2.2}'}, id='', target_id='', name=None, visibility=None, isopen=None, atom_link=None, atom_author=None, address=None, phone_number=None, snippet=None, description=None, view=None, times=None, style_url=None, styles=[], region=None, extended_data=None, features=[fastkml.features.Placemark(ns='{http://www.opengis.net/kml/2.2}', name_spaces={'kml': '{http://www.opengis.net/kml/2.2}', 'atom': '{http://www.w3.org/2005/Atom}', 'gx': '{http://www.google.com/kml/ext/2.2}'}, id='', target_id='', name=None, visibility=None, isopen=None, atom_link=None, atom_author=None, address=None, phone_number=None, snippet=None, description=None, view=None, times=None, style_url=None, styles=[], region=None, extended_data=None, kml_geometry=fastkml.geometry.Point(ns='{http://www.opengis.net/kml/2.2}', name_spaces={'kml': '{http://www.opengis.net/kml/2.2}', 'atom': '{http://www.w3.org/2005/Atom}', 'gx': '{http://www.google.com/kml/ext/2.2}'}, id='', target_id='', extrude=None, altitude_mode=None, kml_coordinates=fastkml.geometry.Coordinates(ns='{http://www.opengis.net/kml/2.2}', name_spaces={'kml': '{http://www.opengis.net/kml/2.2}', 'atom': '{http://www.w3.org/2005/Atom}', 'gx': '{http://www.google.com/kml/ext/2.2}'}, coords=[(11.499985362, 48.19014118)], **{},), **{},), **{},)], **{},)], schemata=[], **{},)], **{},)"
      ]
     },
     "execution_count": 19,
     "metadata": {},
     "output_type": "execute_result"
    }
   ],
   "source": [
    "with ZipFile(kmz_file_path, \"r\") as kmz:\n",
    "    kml_filename = [f for f in kmz.namelist() if f.endswith('.kml')][0]\n",
    "    kml_string = kmz.read(kml_filename).decode(\"utf-8\")\n",
    "    kml_object =  kml.KML.from_string(kml_string)\n",
    "\n",
    "# Save KML\n",
    "with open(kml_file_path, \"w\", encoding=\"utf-8\") as f:\n",
    "    f.write(kml_data)\n",
    "\n",
    "# Parse and display content\n",
    "kml_object"
   ]
  },
  {
   "cell_type": "code",
   "execution_count": null,
   "id": "059abadf-ce47-4dcb-9095-5b5d33d8d04e",
   "metadata": {},
   "outputs": [],
   "source": []
  }
 ],
 "metadata": {
  "kernelspec": {
   "display_name": "Python 3 (ipykernel)",
   "language": "python",
   "name": "python3"
  },
  "language_info": {
   "codemirror_mode": {
    "name": "ipython",
    "version": 3
   },
   "file_extension": ".py",
   "mimetype": "text/x-python",
   "name": "python",
   "nbconvert_exporter": "python",
   "pygments_lexer": "ipython3",
   "version": "3.10.16"
  }
 },
 "nbformat": 4,
 "nbformat_minor": 5
}
